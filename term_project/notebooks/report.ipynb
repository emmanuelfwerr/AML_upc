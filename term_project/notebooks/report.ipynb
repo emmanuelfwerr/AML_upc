{
 "cells": [
  {
   "attachments": {},
   "cell_type": "markdown",
   "metadata": {},
   "source": [
    "## Table of Contents\n",
    "* [1. Exploration](#exploration)\n",
    "    * [1.1 Raw Data Summary](#raw_data_summary)\n",
    "        * [1.1.1 Descriptive Statistics](#descriptive_statistics)\n",
    "        * [1.1.2 Visualization](#visualization)\n",
    "    * [1.2 Investigating Outliers](#investigating_outliers)\n",
    "        * [Sub Section 1.2.1](#sub_section_1_2_1)\n",
    "    * [1.3 Investigating Missing Values](#investigating_missing_values)\n",
    "        * []()\n",
    "* [2. Exploration](#ss)\n",
    "    * [2.1 Section 2.1](#section_2_1)\n",
    "        * [Sub Section 2.1.1](#sub_section_2_1_1)\n",
    "        * [Sub Section 2.1.2](#sub_section_2_1_2)\n",
    "    * [2.2 Section 2.2](#section_2_2)\n",
    "        * [Sub Section 2.2.1](#sub_section_2_2_1)\n",
    "        * [Sub Section 2.2.2](#sub_section_2_2_2)\n",
    "* [3. Modelling](#modelling)\n",
    "    * [3.1 Section 3.1](#section_3_1)\n",
    "        * [Sub Section 3.1.1](#sub_section_3_1_1)\n",
    "        * [Sub Section 3.1.2](#sub_section_3_1_2)\n",
    "    * [3.2 Section 3.2](#section_3_2)\n",
    "        * [Sub Section 3.2.1](#sub_section_3_2_1)\n",
    "        * [Sub Section 3.2.2](#sub_section_3_2_2)\n",
    "\n",
    "\n",
    "## 1. Exploration <a class=\"anchor\" id=\"exploration\"></a>\n",
    "This is chapter number 1\n",
    "### 1.1 Raw Data Summary <a class=\"anchor\" id=\"raw_data_summary\"></a>\n",
    "##### 1.1.1 Descriptive Statistics <a class=\"anchor\" id=\"descriptive_statistics\"></a>\n",
    "##### 1.1.2 Visualization <a class=\"anchor\" id=\"visualization\"></a>\n",
    "### 1.2 Investigating Outliers <a class=\"anchor\" id=\"investigating_outliers\"></a>\n",
    "This is section...\n",
    "### 1.3 Investigating Missing Values <a class=\"anchor\" id=\"investigating_missing_values\"></a>\n",
    "This is section...\n",
    "### 1.3 Imputation <a class=\"anchor\" id=\"outliers\"></a>\n",
    "This is section...\n",
    "## 2. Exploration <a class=\"anchor\" id=\"ss\"></a>\n",
    "This is chapter number 2"
   ]
  },
  {
   "cell_type": "code",
   "execution_count": null,
   "metadata": {},
   "outputs": [],
   "source": []
  }
 ],
 "metadata": {
  "kernelspec": {
   "display_name": "aml_env",
   "language": "python",
   "name": "python3"
  },
  "language_info": {
   "name": "python",
   "version": "3.11.0 | packaged by conda-forge | (main, Oct 25 2022, 06:21:25) [Clang 14.0.4 ]"
  },
  "orig_nbformat": 4,
  "vscode": {
   "interpreter": {
    "hash": "47a1ff7df752c87e96481f57b319d0fd318b873884734e350a6eb5b2df50740f"
   }
  }
 },
 "nbformat": 4,
 "nbformat_minor": 2
}
